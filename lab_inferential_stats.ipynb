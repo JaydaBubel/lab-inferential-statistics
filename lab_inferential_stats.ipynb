{
  "nbformat": 4,
  "nbformat_minor": 0,
  "metadata": {
    "colab": {
      "provenance": [],
      "authorship_tag": "ABX9TyMtlj7hD/vGdeDb/qx2k0Zn",
      "include_colab_link": true
    },
    "kernelspec": {
      "name": "python3",
      "display_name": "Python 3"
    },
    "language_info": {
      "name": "python"
    }
  },
  "cells": [
    {
      "cell_type": "markdown",
      "metadata": {
        "id": "view-in-github",
        "colab_type": "text"
      },
      "source": [
        "<a href=\"https://colab.research.google.com/github/JaydaBubel/lab-inferential-statistics/blob/master/lab_inferential_stats.ipynb\" target=\"_parent\"><img src=\"https://colab.research.google.com/assets/colab-badge.svg\" alt=\"Open In Colab\"/></a>"
      ]
    },
    {
      "cell_type": "markdown",
      "source": [
        "Step 1: Define the null hypothesis - This is our assumption about the population. It is defined by H0 and in this case H0: **μ = 120 mm Hg;**"
      ],
      "metadata": {
        "id": "ALx2AZl2ipUT"
      }
    },
    {
      "cell_type": "markdown",
      "source": [
        "Step 2: Define the alternative hypothesis - This means, what if our assumption is not true. It is defined by Ha and in this case Ha: μ > 120."
      ],
      "metadata": {
        "id": "r-c2cHR1qgZn"
      }
    },
    {
      "cell_type": "markdown",
      "source": [
        "Step 3: Determine if it is a one-tailed or a two-tailed test. In this case **it would be two-tailed**, because two-tailed is when the mean tested (alternative hypothesis) can be > or < then the mean of the population. Whether higher or lower, we want to see how it varies from general population on mainland.\n"
      ],
      "metadata": {
        "id": "6L0-ve4VirzU"
      }
    },
    {
      "cell_type": "markdown",
      "source": [
        "Step 4: Decide a test statistics based on the information available; we will try a t-test."
      ],
      "metadata": {
        "id": "rX7VMfmJiwGn"
      }
    },
    {
      "cell_type": "markdown",
      "source": [
        "\n",
        "Step 6: Calculate the test statistic based on the given information, first by hand then python."
      ],
      "metadata": {
        "id": "dvxqeIcGizMV"
      }
    },
    {
      "cell_type": "code",
      "source": [
        "import math\n",
        "sample_mean = 130.1\n",
        "population_mean = 120\n",
        "sample_std = 21.21\n",
        "sample_size = 100\n",
        "t_statistic = (sample_mean - population_mean) / (sample_std / math.sqrt(sample_size))\n",
        "print(\"Calculated Test Statistic:\", t_statistic)"
      ],
      "metadata": {
        "colab": {
          "base_uri": "https://localhost:8080/"
        },
        "id": "yk2s_Xh2o3h3",
        "outputId": "1ea75188-15dd-483d-8534-9a8704df30c7"
      },
      "execution_count": 1,
      "outputs": [
        {
          "output_type": "stream",
          "name": "stdout",
          "text": [
            "Calculated Test Statistic: 4.761904761904759\n"
          ]
        }
      ]
    },
    {
      "cell_type": "markdown",
      "source": [
        "Step 7: Check the table to determine the critical value.\n",
        "For z-test you have fixed values according to Confidence Level.\n",
        "For t-test you have to calculate according to the degrees of freedom (df), which is the sample_size - 1."
      ],
      "metadata": {
        "id": "LHAjo-76i5HM"
      }
    },
    {
      "cell_type": "code",
      "source": [
        "from scipy.stats import t\n",
        "alpha = 0.05\n",
        "df = sample_size - 1\n",
        "\n",
        "#Calculate critical t-val\n",
        "critical_t_value = t.ppf(1 - alpha/2, df)\n",
        "print(\"Critical t-value:\", critical_t_value)"
      ],
      "metadata": {
        "colab": {
          "base_uri": "https://localhost:8080/"
        },
        "id": "xkT9ZUocpHdy",
        "outputId": "12d9c41c-b36c-42b3-9481-8d4c522954c9"
      },
      "execution_count": 2,
      "outputs": [
        {
          "output_type": "stream",
          "name": "stdout",
          "text": [
            "Critical t-value: 1.9842169515086827\n"
          ]
        }
      ]
    },
    {
      "cell_type": "markdown",
      "source": [
        "Step 8: Make conclusions:\n",
        "If the test statistic falls in the critical region, then we reject the Null Hypothesis. If the test statistic falls in the region between the critical region, then we fail to reject the Null Hypothesis.\n",
        "\n",
        "Since the calculated test statistic (4.76) is greater than the critical t-value (1.98), **i'd reject the null hypothesis**. The results shows sig. difference between sample gourp (Honolulu) and general population - the difference here is too great to just be considered chance and indicates that the Honolulu group has higher blood pressure on avg."
      ],
      "metadata": {
        "id": "gN1WPGy2i2i_"
      }
    }
  ]
}